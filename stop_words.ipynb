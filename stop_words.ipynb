{
 "cells": [
  {
   "cell_type": "code",
   "execution_count": 1,
   "metadata": {},
   "outputs": [],
   "source": [
    "import spacy"
   ]
  },
  {
   "cell_type": "code",
   "execution_count": 2,
   "metadata": {},
   "outputs": [],
   "source": [
    "nlp=spacy.load(\"en_core_web_sm\")"
   ]
  },
  {
   "cell_type": "code",
   "execution_count": 3,
   "metadata": {},
   "outputs": [
    {
     "name": "stdout",
     "output_type": "stream",
     "text": [
      "{'per', 'amongst', 'itself', 'make', 'former', 'an', '’ve', 'did', 'five', 'noone', 'such', 'against', 'along', 'two', 'many', 'nothing', 'throughout', 'show', 'on', 'someone', 'due', 'again', 'wherever', 'take', 'your', 'yourself', 'cannot', 'and', 'enough', 'being', 'third', \"'re\", 'side', 'done', 'thereupon', 'whether', 'toward', 'hereafter', 'might', 'be', 'hundred', 'without', 'thence', 'ours', 'can', 'anything', 'there', 'various', 'for', 'indeed', 'whom', 'ourselves', 'formerly', 'over', 'few', 'had', 'than', 'since', 'almost', 'under', 'seeming', 'please', 'still', 'n‘t', 'even', 'you', 'either', 'very', 'sometime', 'has', 'up', 'or', 'will', 'us', 'besides', 'somewhere', 'after', 'a', 'top', 'any', 'whereupon', 'beforehand', '‘s', 'thereby', 'keep', 'now', 'ever', 'upon', 'hers', 'all', 'see', 'among', 'how', 'mine', 'another', 'thereafter', 'doing', 'in', 'whence', 'no', 'from', 'once', 'through', '’d', 'them', 'herself', 'same', 'whereas', 'further', 'anyone', 'hereupon', 'have', \"'d\", 'who', 'between', 'get', 'out', 'their', 'only', 'if', 'anywhere', 'eight', 'nevertheless', 'my', 'call', 'must', 'more', 'whose', 'first', 'wherein', 'moreover', 're', 'part', 'do', \"'ll\", 'his', 'never', 'alone', 'yet', 'already', 'her', 'him', 'somehow', 'below', 'several', 'last', \"n't\", 'though', 'although', 'sixty', 'others', 'during', 'nine', 'three', '’re', 'ten', 'some', '‘m', 'i', 'everyone', 'serious', 'anyhow', 'when', 'therefore', 'often', 'whatever', 'hereby', 'whereby', 'of', 'however', 'whoever', 'unless', 'am', \"'m\", '‘d', 'why', 'then', 'namely', 'hence', 'should', 'would', 'becomes', 'give', 'eleven', 'too', 'well', 'our', 'across', 'therein', 'every', 'perhaps', 'is', 'also', 'neither', 'become', 'beyond', 'go', 'whenever', 'whereafter', 'until', 'front', 'ca', \"'s\", 'n’t', 'himself', 'which', 'what', 'everything', 'used', 'whither', '’m', 'fifteen', 'put', 'elsewhere', 'about', 'behind', 'but', 'most', 'each', 'mostly', 'next', 'those', 'was', 'above', 'are', 'becoming', 'move', 'seemed', 'other', 'to', 'latter', 'always', 'that', 'something', 'six', '’s', 'meanwhile', 'sometimes', 'quite', 'these', 'twelve', 'nor', 'at', 'afterwards', 'thru', 'name', 'empty', 'otherwise', '‘ll', 'it', 'off', 'because', '‘re', 'yourselves', 'much', 'this', 'beside', 'themselves', 'via', 'around', 'bottom', 'fifty', 'became', 'could', 'into', 'not', 'least', 'except', 'together', 'full', 'seems', 'everywhere', \"'ve\", 'while', 'he', 'regarding', 'twenty', 'back', 'here', 'the', 'whole', 'we', 'they', 'amount', 'nobody', 'less', 'down', 'towards', 'me', 'just', 'made', 'none', 'one', 'does', 'before', 'its', 'were', 'she', 'with', '‘ve', 'both', 'by', '’ll', 'really', 'thus', 'seem', 'yours', 'herein', 'anyway', 'so', 'say', 'may', 'been', 'else', 'as', 'where', 'rather', 'latterly', 'four', 'nowhere', 'onto', 'using', 'myself', 'forty', 'own', 'within'}\n"
     ]
    }
   ],
   "source": [
    "print(nlp.Defaults.stop_words)"
   ]
  },
  {
   "cell_type": "code",
   "execution_count": 4,
   "metadata": {},
   "outputs": [
    {
     "data": {
      "text/plain": [
       "326"
      ]
     },
     "execution_count": 4,
     "metadata": {},
     "output_type": "execute_result"
    }
   ],
   "source": [
    "len(nlp.Defaults.stop_words)"
   ]
  },
  {
   "cell_type": "code",
   "execution_count": 7,
   "metadata": {},
   "outputs": [
    {
     "data": {
      "text/plain": [
       "False"
      ]
     },
     "execution_count": 7,
     "metadata": {},
     "output_type": "execute_result"
    }
   ],
   "source": [
    "nlp.vocab[\"umair\"].is_stop"
   ]
  },
  {
   "cell_type": "code",
   "execution_count": 8,
   "metadata": {},
   "outputs": [
    {
     "data": {
      "text/plain": [
       "False"
      ]
     },
     "execution_count": 8,
     "metadata": {},
     "output_type": "execute_result"
    }
   ],
   "source": [
    "nlp.vocab[\"Mumtaz\"].is_stop"
   ]
  },
  {
   "cell_type": "code",
   "execution_count": 9,
   "metadata": {},
   "outputs": [
    {
     "data": {
      "text/plain": [
       "True"
      ]
     },
     "execution_count": 9,
     "metadata": {},
     "output_type": "execute_result"
    }
   ],
   "source": [
    "nlp.vocab[\"a\"].is_stop"
   ]
  },
  {
   "cell_type": "code",
   "execution_count": 10,
   "metadata": {},
   "outputs": [
    {
     "data": {
      "text/plain": [
       "True"
      ]
     },
     "execution_count": 10,
     "metadata": {},
     "output_type": "execute_result"
    }
   ],
   "source": [
    "nlp.vocab[\"the\"].is_stop"
   ]
  },
  {
   "cell_type": "code",
   "execution_count": 11,
   "metadata": {},
   "outputs": [
    {
     "data": {
      "text/plain": [
       "True"
      ]
     },
     "execution_count": 11,
     "metadata": {},
     "output_type": "execute_result"
    }
   ],
   "source": [
    "nlp.vocab[\"am\"].is_stop"
   ]
  },
  {
   "cell_type": "code",
   "execution_count": 12,
   "metadata": {},
   "outputs": [],
   "source": [
    "#adding the stopwords\n",
    "nlp.Defaults.stop_words.add(\"umair\")"
   ]
  },
  {
   "cell_type": "code",
   "execution_count": 14,
   "metadata": {},
   "outputs": [],
   "source": [
    "nlp.vocab[\"umair\"].is_stop=True"
   ]
  },
  {
   "cell_type": "code",
   "execution_count": 15,
   "metadata": {},
   "outputs": [
    {
     "data": {
      "text/plain": [
       "True"
      ]
     },
     "execution_count": 15,
     "metadata": {},
     "output_type": "execute_result"
    }
   ],
   "source": [
    "nlp.vocab[\"umair\"].is_stop"
   ]
  },
  {
   "cell_type": "code",
   "execution_count": 16,
   "metadata": {},
   "outputs": [],
   "source": [
    "nlp.Defaults.stop_words.remove(\"umair\")\n",
    "nlp.vocab[\"umair\"].is_stop=False"
   ]
  },
  {
   "cell_type": "code",
   "execution_count": 17,
   "metadata": {},
   "outputs": [
    {
     "data": {
      "text/plain": [
       "False"
      ]
     },
     "execution_count": 17,
     "metadata": {},
     "output_type": "execute_result"
    }
   ],
   "source": [
    "nlp.vocab[\"umair\"].is_stop"
   ]
  }
 ],
 "metadata": {
  "kernelspec": {
   "display_name": "Python 3",
   "language": "python",
   "name": "python3"
  },
  "language_info": {
   "codemirror_mode": {
    "name": "ipython",
    "version": 3
   },
   "file_extension": ".py",
   "mimetype": "text/x-python",
   "name": "python",
   "nbconvert_exporter": "python",
   "pygments_lexer": "ipython3",
   "version": "3.7.1"
  }
 },
 "nbformat": 4,
 "nbformat_minor": 2
}
